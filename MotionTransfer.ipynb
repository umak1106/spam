{
  "nbformat": 4,
  "nbformat_minor": 0,
  "metadata": {
    "colab": {
      "name": "MotionTransfer.ipynb",
      "provenance": [],
      "collapsed_sections": [],
      "mount_file_id": "1mH03ZxN_3SK5weOmfiDrFaZa0q2k-_MK",
      "authorship_tag": "ABX9TyNyGE2SarnzSF0/Hv8ApiB/",
      "include_colab_link": true
    },
    "kernelspec": {
      "name": "python3",
      "display_name": "Python 3"
    },
    "language_info": {
      "name": "python"
    }
  },
  "cells": [
    {
      "cell_type": "markdown",
      "metadata": {
        "id": "view-in-github",
        "colab_type": "text"
      },
      "source": [
        "<a href=\"https://colab.research.google.com/github/Rabbia-Ijaz/TryItOut/blob/main/MotionTransfer.ipynb\" target=\"_parent\"><img src=\"https://colab.research.google.com/assets/colab-badge.svg\" alt=\"Open In Colab\"/></a>"
      ]
    },
    {
      "cell_type": "code",
      "metadata": {
        "id": "0UMzEMomiwZ8",
        "colab": {
          "base_uri": "https://localhost:8080/"
        },
        "outputId": "11b67346-a5ec-435a-ebfb-2757fce989b6"
      },
      "source": [
        "import os\n",
        "from google.colab import drive\n",
        "drive.mount('/content/drive')\n",
        "import glob\n",
        "import numpy as np\n",
        "from PIL import Image\n",
        "from matplotlib import pyplot as plt\n",
        "import cv2\n",
        "from IPython.display import display\n",
        "!pip install UVTextureConverter\n",
        "from UVTextureConverter import UVConverter\n",
        "from UVTextureConverter import Normal2Atlas\n",
        "from UVTextureConverter import Atlas2Normal"
      ],
      "execution_count": null,
      "outputs": [
        {
          "output_type": "stream",
          "text": [
            "Drive already mounted at /content/drive; to attempt to forcibly remount, call drive.mount(\"/content/drive\", force_remount=True).\n",
            "Requirement already satisfied: UVTextureConverter in /usr/local/lib/python3.7/dist-packages (1.2.0)\n",
            "Requirement already satisfied: scipy in /usr/local/lib/python3.7/dist-packages (from UVTextureConverter) (1.4.1)\n",
            "Requirement already satisfied: tqdm in /usr/local/lib/python3.7/dist-packages (from UVTextureConverter) (4.41.1)\n",
            "Requirement already satisfied: numpy in /usr/local/lib/python3.7/dist-packages (from UVTextureConverter) (1.19.5)\n"
          ],
          "name": "stdout"
        }
      ]
    },
    {
      "cell_type": "code",
      "metadata": {
        "id": "cXYTo-Pvjbvo",
        "colab": {
          "base_uri": "https://localhost:8080/",
          "height": 424
        },
        "outputId": "2f3d2ce1-6b38-41c0-949e-fc733b80c8ed"
      },
      "source": [
        "def Display(title1 ,a): #global display func\n",
        "    name=title1+'.jpg'\n",
        "    cv2.imwrite(name,a)\n",
        "    print(title1)\n",
        "    display(Image(filename=name))\n",
        "\n",
        "input=\"\"\n",
        "input_IUV=\"\"\n",
        "target=\"\"\n",
        "InputImageArray=[]\n",
        "OutputImageArray=[]\n",
        "def Inputfunc(input_1,target_1):\n",
        "  \n",
        "  input_1_IUV=input_1[0:-4]+\"_IUV.png\"  \n",
        "  target_IUV=target_1[0:-4]+\"_IUV.png\"\n",
        "  print(input_1_IUV,target_IUV)\n",
        "  path=\"/content/drive/MyDrive/Colab Notebooks/\"\n",
        "  input=path+input_1\n",
        "  input_IUV=path+input_1_IUV\n",
        "  target=path+target_1\n",
        "  model_image = Image.open(path+input_1)\n",
        "  dense_image = Image.open(path+input_1_IUV)\n",
        "  model_image_1 = Image.open(path+target_1)\n",
        "  dense_image_1 = Image.open(path+target_IUV)\n",
        "  return input,target,input_IUV,model_image,dense_image,model_image_1,dense_image_1\n",
        "\n",
        "\n",
        "def MotionTransfer(Input,Target):\n",
        "\n",
        "  vidcap = cv2.VideoCapture(Target)\n",
        "  # InputImageArray=[]\n",
        "  # OutputImageArray=[]\n",
        "  success,image = vidcap.read()\n",
        "  count = 0\n",
        "  while success:\n",
        "    \n",
        "    filetemp=Target[-12:-4]+'_'+str(count)+\".jpg\"\n",
        "    cv2.imwrite(filetemp, image)     # save frame as JPEG file      \n",
        "    vidcap.set(cv2.CAP_PROP_POS_MSEC,(count*1200))    # added this line\n",
        "    success,image = vidcap.read()\n",
        "    InputImageArray.append(filetemp)\n",
        "    print('Read a new frame: ', count)\n",
        "    #plt.imshow(image)\n",
        "    count += 1\n",
        "  print(InputImageArray)\n",
        "\n",
        "\n",
        "  for iter in range (len(InputImageArray)):\n",
        "    #tempfilename=\"input_\"+str(iter)+\".jpg\"\n",
        "    input,target,input_IUV,model_image,dense_image,model_image_1,dense_image_1=Inputfunc(Input,InputImageArray[iter])\n",
        "\n",
        "    ##**Source Image**\n",
        "    dense_array = np.asarray(dense_image)\n",
        "    model_dense=np.zeros(shape=(3,dense_array[:,:,0].shape[0],dense_array[:,:,0].shape[1]))\n",
        "    model_dense[0]=dense_array[:,:,2]\n",
        "    model_dense[1]=dense_array[:,:,1]\n",
        "    model_dense[2]=dense_array[:,:,0]\n",
        "    model_dense.shape\n",
        "    model_array = np.asarray(model_image)[:model_dense.shape[1],:model_dense.shape[2],:]\n",
        "\n",
        "    # figure, axes = plt.subplots(nrows=1, ncols=4)\n",
        "    # axes.ravel()[0].imshow(model_array)\n",
        "    # axes.ravel()[0].set_axis_off()\n",
        "    # axes.ravel()[1].imshow(model_dense[0])\n",
        "    # axes.ravel()[1].set_axis_off()\n",
        "    # axes.ravel()[2].imshow(model_dense[1])\n",
        "    # axes.ravel()[2].set_axis_off()\n",
        "    # axes.ravel()[3].imshow(model_dense[2])\n",
        "    # axes.ravel()[3].set_axis_off()\n",
        "\n",
        "    ##**Target Image**\n",
        "    dense_array_1 = np.asarray(dense_image_1)\n",
        "    model_dense_1=np.zeros(shape=(3,dense_array_1[:,:,0].shape[0],dense_array_1[:,:,0].shape[1]))\n",
        "    model_dense_1[0]=dense_array_1[:,:,2]\n",
        "    model_dense_1[1]=dense_array_1[:,:,1]\n",
        "    model_dense_1[2]=dense_array_1[:,:,0]\n",
        "    model_dense_1.shape\n",
        "    model_array_1 = np.asarray(model_image_1)[:model_dense_1.shape[1],:model_dense_1.shape[2],:]\n",
        "\n",
        "    figure, axes = plt.subplots(nrows=1, ncols=4)\n",
        "    axes.ravel()[0].imshow(model_array_1)\n",
        "    axes.ravel()[0].set_axis_off()\n",
        "    axes.ravel()[1].imshow(model_dense_1[0])\n",
        "    axes.ravel()[1].set_axis_off()\n",
        "    axes.ravel()[2].imshow(model_dense_1[1])\n",
        "    axes.ravel()[2].set_axis_off()\n",
        "    axes.ravel()[3].imshow(model_dense_1[2])\n",
        "    axes.ravel()[3].set_axis_off()\n",
        "\n",
        "\n",
        "    solution = 75\n",
        "    solution_float = float(solution) - 1\n",
        "\n",
        "\n",
        "    ##**Texture Extraction from Source Image**\n",
        "    U = model_dense[1, :, :]\n",
        "    V = model_dense[2, :, :]\n",
        "    parts = list()\n",
        "    for PartInd in range(1, 25):\n",
        "        actual_part = np.zeros((solution, solution, 3))\n",
        "        x, y = np.where(model_dense[0,:,:] == PartInd)\n",
        "        if len(x) == 0:\n",
        "            parts.append(actual_part)\n",
        "            continue\n",
        "        u_current_points = U[x, y]\n",
        "        v_current_points = V[x, y]\n",
        "\n",
        "\n",
        "        tex_map_coords = ((255-v_current_points)*solution_float/255.).astype(int), (u_current_points*solution_float/255.).astype(int)\n",
        "        for c in range(3):\n",
        "            actual_part[tex_map_coords[0], tex_map_coords[1], c] = model_array[x, y, c]\n",
        "\n",
        "        parts.append(actual_part)\n",
        "\n",
        "\n",
        "    tex_trans, mask_trans = UVConverter.create_texture(input, input_IUV, parts_size=solution, concat=False)\n",
        "\n",
        "    # for display\n",
        "    TextureIm = UVConverter.concat_atlas_tex(tex_trans)  # 800 x 1200 x 3\n",
        "    plt.imshow(TextureIm)\n",
        "\n",
        "    model_image_identity = model_array * np.expand_dims((model_dense[0] == 2)+(model_dense[0] == 15)+(model_dense[0] == 16)+(model_dense[0] == 17)+(model_dense[0] == 18)+(model_dense[0] == 19)+(model_dense[0] == 20)+ (model_dense[0] == 21)+(model_dense[0] == 22), 2)\n",
        "    #plt.imshow(model_image_identity)\n",
        "\n",
        "    np.array(parts).shape\n",
        "\n",
        "    IUV = model_dense\n",
        "\n",
        "    I=model_dense[0,:,:]\n",
        "    U = model_dense[1,:,:]\n",
        "    V = model_dense[2,:,:]\n",
        "\n",
        "    R_im = np.zeros(U.shape)\n",
        "    G_im = np.zeros(U.shape)\n",
        "    B_im = np.zeros(U.shape)\n",
        "\n",
        "    for PartInd in range(1, 25):\n",
        "        tex = np.array(parts)[PartInd - 1, :, :, :].squeeze()\n",
        "        R = tex[:,:,0]\n",
        "        G = tex[:,:,1]\n",
        "        B = tex[:,:,2]\n",
        "        ###############\n",
        "        x,y = np.where(IUV[0,:,:]==PartInd)\n",
        "        u_current_points = U[x,y]   #  Pixels that belong to this specific part.\n",
        "        v_current_points = V[x,y]\n",
        "        ##\n",
        "        r_current_points = R[((255-v_current_points)*solution_float/255.).astype(int),(u_current_points*solution_float/255.).astype(int)]*255\n",
        "        g_current_points = G[((255-v_current_points)*solution_float/255.).astype(int),(u_current_points*solution_float/255.).astype(int)]*255\n",
        "        b_current_points = B[((255-v_current_points)*solution_float/255.).astype(int),(u_current_points*solution_float/255.).astype(int)]*255\n",
        "        ##  Get the RGB values from the texture images.\n",
        "        R_im[IUV[0,:,:]==PartInd] = r_current_points\n",
        "        G_im[IUV[0,:,:]==PartInd] = g_current_points\n",
        "        B_im[IUV[0,:,:]==PartInd] = b_current_points\n",
        "    generated_image = np.concatenate((R_im[:,:,np.newaxis],G_im[:,:,np.newaxis],B_im[:,:,np.newaxis]), axis =2 ).astype(np.uint8)\n",
        "    #generated_image.shape\n",
        "    #plt.imshow(np.uint8(generated_image)*255)\n",
        "\n",
        "\n",
        "    ##**Image Synthesis**\n",
        "    IUV = model_dense_1\n",
        "    U = model_dense_1[1,:,:]\n",
        "    V = model_dense_1[2,:,:]\n",
        "\n",
        "    R_im = np.zeros(U.shape)\n",
        "    G_im = np.zeros(U.shape)\n",
        "    B_im = np.zeros(U.shape)\n",
        "\n",
        "    for PartInd in range(1, 25):\n",
        "        tex = np.array(parts)[PartInd - 1, :, :, :].squeeze()\n",
        "        R = tex[:,:,0]\n",
        "        G = tex[:,:,1]\n",
        "        B = tex[:,:,2]\n",
        "        ###############\n",
        "        x,y = np.where(IUV[0,:,:]==PartInd)\n",
        "        u_current_points = U[x,y]   #  Pixels that belong to this specific part.\n",
        "        v_current_points = V[x,y]\n",
        "        ##\n",
        "        r_current_points = R[((255-v_current_points)*solution_float/255.).astype(int),(u_current_points*solution_float/255.).astype(int)]*255\n",
        "        g_current_points = G[((255-v_current_points)*solution_float/255.).astype(int),(u_current_points*solution_float/255.).astype(int)]*255\n",
        "        b_current_points = B[((255-v_current_points)*solution_float/255.).astype(int),(u_current_points*solution_float/255.).astype(int)]*255\n",
        "        ##  Get the RGB values from the texture images.\n",
        "        R_im[IUV[0,:,:]==PartInd] = r_current_points\n",
        "        G_im[IUV[0,:,:]==PartInd] = g_current_points\n",
        "        B_im[IUV[0,:,:]==PartInd] = b_current_points\n",
        "    generated_image_1 = np.concatenate((R_im[:,:,np.newaxis],G_im[:,:,np.newaxis],B_im[:,:,np.newaxis]), axis =2 ).astype(np.uint8)\n",
        "\n",
        "    plt.imshow(np.uint8(generated_image_1) * 255)\n",
        "\n",
        "\n",
        "    ##**Extraction of the Important Part**\n",
        "    apparel_matrix = np.expand_dims((model_dense_1[0] == 2)+(model_dense_1[0] == 15)+(model_dense_1[0] == 16)+(model_dense_1[0] == 17)+(model_dense_1[0] == 18)+(model_dense_1[0] == 19)+(model_dense_1[0] == 20)+ (model_dense_1[0] == 21)+(model_dense_1[0] == 22), 2)\n",
        "\n",
        "    apparel = generated_image_1 * apparel_matrix * 255\n",
        "    plt.imshow(apparel)\n",
        "\n",
        "    model_image_identity_1 = model_array_1 * np.logical_not(apparel_matrix)\n",
        "    plt.imshow(model_image_identity_1)\n",
        "\n",
        "\n",
        "    ##**Extraction Mapping on Target Body**\n",
        "    FinalImage=model_image_identity_1 + apparel\n",
        "    plt.imshow(FinalImage)\n",
        "    \n",
        "\n",
        "\n",
        "    #inpainting\n",
        "    Mask=cv2.imread(target,0)\n",
        "    for i in range(0,FinalImage.shape[0]):\n",
        "      for j in range(0,FinalImage.shape[1]):\n",
        "        if (apparel[i][j][0]==0 and apparel[i][j][1]==0 and apparel[i][j][2]==0):\n",
        "          Mask[i][j]=255\n",
        "        else:\n",
        "          Mask[i][j]=0\n",
        "    dst = cv2.inpaint(apparel,Mask,3,cv2.INPAINT_TELEA)\n",
        "\n",
        "    for i in range(0,FinalImage.shape[0]):\n",
        "      for j in range(0,FinalImage.shape[1]):\n",
        "        if (model_image_identity_1[i][j][0]==0 and model_image_identity_1[i][j][1]==0 and model_image_identity_1[i][j][2]==0):\n",
        "          dst[i][j]=dst[i][j]\n",
        "        else:\n",
        "          dst[i][j]=model_image_identity_1[i][j]\n",
        "\n",
        "    plt.imshow(dst)\n",
        "\n",
        "    filetemp=\"Output\"+str(iter)+\".jpg\"\n",
        "    cv2.imwrite(filetemp, dst)\n",
        "    OutputImageArray.append(filetemp)\n",
        "\n",
        "  print(len(OutputImageArray))\n",
        "\n",
        "MotionTransfer(\"input_3.jpg\",\"/content/drive/MyDrive/Colab Notebooks/Motion_4.mp4\")\n",
        "#MotionTransfer(\"input_4.jpg\",\"/content/drive/MyDrive/Colab Notebooks/Motion_4.mp4\")\n",
        "#MotionTransfer(\"input_4.jpg\",\"/content/drive/MyDrive/Colab Notebooks/Motion_7.mp4\")\n",
        "#MotionTransfer(\"input_4.jpg\",\"/content/drive/MyDrive/Colab Notebooks/Motion_9.mp4\")\n",
        "#MAIN\n",
        "print(len(OutputImageArray))\n"
      ],
      "execution_count": null,
      "outputs": [
        {
          "output_type": "stream",
          "text": [
            "Read a new frame:  0\n",
            "Read a new frame:  1\n",
            "Read a new frame:  2\n",
            "Read a new frame:  3\n",
            "['Motion_4_0.jpg', 'Motion_4_1.jpg', 'Motion_4_2.jpg', 'Motion_4_3.jpg']\n",
            "input_3_IUV.png Motion_4_0_IUV.png\n",
            "input_3_IUV.png Motion_4_1_IUV.png\n",
            "input_3_IUV.png Motion_4_2_IUV.png\n",
            "input_3_IUV.png Motion_4_3_IUV.png\n",
            "4\n",
            "4\n"
          ],
          "name": "stdout"
        },
        {
          "output_type": "display_data",
          "data": {
            "image/png": "[encoded data removed]",
            "text/plain": [
              "<Figure size 432x288 with 4 Axes>"
            ]
          },
          "metadata": {
            "tags": [],
            "needs_background": "light"
          }
        },
        {
          "output_type": "display_data",
          "data": {
            "image/png": "[encoded data removed]",
            "text/plain": [
              "<Figure size 432x288 with 4 Axes>"
            ]
          },
          "metadata": {
            "tags": [],
            "needs_background": "light"
          }
        },
        {
          "output_type": "display_data",
          "data": {
            "image/png": "[encoded data removed]",
            "text/plain": [
              "<Figure size 432x288 with 4 Axes>"
            ]
          },
          "metadata": {
            "tags": [],
            "needs_background": "light"
          }
        },
        {
          "output_type": "display_data",
          "data": {
            "image/png": "[encoded data removed]",
            "text/plain": [
              "<Figure size 432x288 with 4 Axes>"
            ]
          },
          "metadata": {
            "tags": [],
            "needs_background": "light"
          }
        }
      ]
    },
    {
      "cell_type": "code",
      "metadata": {
        "colab": {
          "base_uri": "https://localhost:8080/"
        },
        "id": "4Cy5nOvY5iyB",
        "outputId": "eb200bd8-1efa-46b0-f544-91b4930abc4d"
      },
      "source": [
        "img_array = []\n",
        "img = cv2.imread(OutputImageArray[0])\n",
        "height, width, layers = img.shape\n",
        "size = (width,height)\n",
        "for i in range(len(OutputImageArray)):\n",
        "    img = cv2.imread(OutputImageArray[i])\n",
        "    img = cv2.cvtColor(img, cv2.COLOR_BGR2RGB)\n",
        "    img_array.append(img)\n",
        "\n",
        "out = cv2.VideoWriter('project3.avi',cv2.VideoWriter_fourcc(*'DIVX'), 1.25, size)\n",
        " \n",
        "for i in range(len(img_array)):\n",
        "    \n",
        "    out.write(img_array[i])\n",
        "print(len(img_array))\n",
        "out.release()"
      ],
      "execution_count": null,
      "outputs": [
        {
          "output_type": "stream",
          "text": [
            "4\n"
          ],
          "name": "stdout"
        }
      ]
    }
  ]
}